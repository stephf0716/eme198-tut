{
 "cells": [
  {
   "cell_type": "code",
   "execution_count": 1,
   "metadata": {},
   "outputs": [],
   "source": [
    "import numpy as np\n",
    "import pandas as pd"
   ]
  },
  {
   "cell_type": "code",
   "execution_count": 2,
   "metadata": {
    "scrolled": false
   },
   "outputs": [
    {
     "data": {
      "text/plain": [
       "array([-0.40002469,  0.67146849, -0.6207274 ,  1.17821003, -0.87547657,\n",
       "       -0.43972682,  0.29170115, -1.80907078,  1.85840333,  0.78448456,\n",
       "        0.35242966, -0.31699284, -0.83697232, -1.02373723,  1.24948744,\n",
       "       -0.98587399,  0.46384987, -1.20032062,  0.93208676,  1.20871245,\n",
       "        0.08531644, -0.55547886,  0.80260408,  0.60280114, -0.44496179,\n",
       "        0.25765784,  0.96514549,  0.62422709,  0.3523557 ,  0.46940379,\n",
       "        0.47204743,  0.733001  , -1.50385134, -0.55966713,  0.17420549,\n",
       "        0.0401683 , -2.50241795,  0.89708117,  1.61654281, -1.20097546,\n",
       "       -0.67705731,  0.89480041, -0.34092247, -0.03198845, -0.78062227,\n",
       "        0.96949944, -0.33134522, -0.79433925, -0.54039688,  0.14174301,\n",
       "       -1.23194487,  0.36410025,  1.18366614, -2.56230538, -1.24743219,\n",
       "       -0.42801745,  0.71794333, -0.94001233, -0.35656754,  0.86761253,\n",
       "       -1.30690963,  0.15420626,  0.80790747,  0.60191378, -0.80632843,\n",
       "        0.3148358 ,  0.07891569, -1.501337  , -1.53910793, -1.45956151,\n",
       "       -0.70687747, -2.62723261, -0.19479936, -0.45450222,  0.63627246,\n",
       "        0.35359683, -0.2416362 , -1.52040012,  0.4635338 ,  0.65651057,\n",
       "       -1.12212457,  0.14675404, -1.36303696, -1.21848108, -0.19280401,\n",
       "        1.39931968, -2.79198917, -1.12012047,  0.9331672 ,  0.67724616,\n",
       "        1.14272633, -0.88642651,  1.46631599, -1.52214963,  0.12324833,\n",
       "        0.73353813, -0.38132552, -1.12466209,  0.11556929, -1.69596816,\n",
       "       -0.8534819 , -0.3808012 , -1.97825064, -1.28064925, -0.09072306,\n",
       "        1.29676802,  1.7343328 , -0.6461669 ,  0.19299568,  0.96555006,\n",
       "        1.08618631, -1.39138463, -0.72861289,  0.42471324, -1.16679824,\n",
       "        0.38593374,  1.51836618, -0.45846944, -0.26718391,  0.61791992,\n",
       "       -0.20411888,  1.39594857, -0.14925118, -1.06063896, -0.43238392,\n",
       "       -0.7099749 ,  0.15433128, -0.2464131 , -0.72351657, -0.78849013,\n",
       "       -1.12601986, -1.02979768, -0.36473256,  0.02457951,  0.86466626,\n",
       "        1.01889153,  0.17605304,  0.4839648 ,  1.00733261, -1.24248644])"
      ]
     },
     "execution_count": 2,
     "metadata": {},
     "output_type": "execute_result"
    }
   ],
   "source": [
    "# let's generate some random numbers in a 5x4 array\n",
    "random_arr = np.random.randn(140)\n",
    "random_arr"
   ]
  },
  {
   "cell_type": "code",
   "execution_count": 3,
   "metadata": {},
   "outputs": [
    {
     "data": {
      "text/plain": [
       "-0.15900347337843265"
      ]
     },
     "execution_count": 3,
     "metadata": {},
     "output_type": "execute_result"
    }
   ],
   "source": [
    "# let's calculate the mean, median, and standard deviation\n",
    "np.mean(random_arr)"
   ]
  },
  {
   "cell_type": "code",
   "execution_count": 4,
   "metadata": {},
   "outputs": [
    {
     "data": {
      "text/plain": [
       "-0.1938016824704582"
      ]
     },
     "execution_count": 4,
     "metadata": {},
     "output_type": "execute_result"
    }
   ],
   "source": [
    "np.median(random_arr)"
   ]
  },
  {
   "cell_type": "code",
   "execution_count": 5,
   "metadata": {},
   "outputs": [
    {
     "data": {
      "text/plain": [
       "0.9779177459261452"
      ]
     },
     "execution_count": 5,
     "metadata": {},
     "output_type": "execute_result"
    }
   ],
   "source": [
    "np.std(random_arr)"
   ]
  },
  {
   "cell_type": "code",
   "execution_count": 6,
   "metadata": {},
   "outputs": [
    {
     "data": {
      "text/plain": [
       "[(-0.859, -0.194], (0.627, 1.858], (-0.859, -0.194], (0.627, 1.858], (-2.7929999999999997, -0.859], ..., (0.627, 1.858], (-0.194, 0.627], (-0.194, 0.627], (0.627, 1.858], (-2.7929999999999997, -0.859]]\n",
       "Length: 140\n",
       "Categories (4, interval[float64]): [(-2.7929999999999997, -0.859] < (-0.859, -0.194] < (-0.194, 0.627] < (0.627, 1.858]]"
      ]
     },
     "execution_count": 6,
     "metadata": {},
     "output_type": "execute_result"
    }
   ],
   "source": [
    "# let's bin the data into quartiles\n",
    "qtiles = pd.qcut(random_arr, 4) \n",
    "qtiles"
   ]
  },
  {
   "cell_type": "code",
   "execution_count": 7,
   "metadata": {},
   "outputs": [
    {
     "data": {
      "text/plain": [
       "(0.627, 1.858]                   35\n",
       "(-0.194, 0.627]                  35\n",
       "(-0.859, -0.194]                 35\n",
       "(-2.7929999999999997, -0.859]    35\n",
       "dtype: int64"
      ]
     },
     "execution_count": 7,
     "metadata": {},
     "output_type": "execute_result"
    }
   ],
   "source": [
    "pd.value_counts(qtiles)"
   ]
  },
  {
   "cell_type": "code",
   "execution_count": 8,
   "metadata": {},
   "outputs": [],
   "source": [
    "import matplotlib.pyplot as plt"
   ]
  },
  {
   "cell_type": "code",
   "execution_count": 9,
   "metadata": {},
   "outputs": [
    {
     "data": {
      "image/png": "[encoded data removed]",
      "text/plain": [
       "<matplotlib.figure.Figure at 0x282c7aaa780>"
      ]
     },
     "metadata": {},
     "output_type": "display_data"
    }
   ],
   "source": [
    "# let's plot a histogram\n",
    "num_bins = 10\n",
    "n, bins, patches = plt.hist(random_arr, num_bins, facecolor='blue', alpha=0.5)\n",
    "plt.show()"
   ]
  },
  {
   "cell_type": "code",
   "execution_count": 34,
   "metadata": {},
   "outputs": [
    {
     "data": {
      "text/plain": [
       "array([97. , 97.2, 97.3, 97.6, 97.6, 97.7, 97.9, 98.2, 98.2, 98.4, 98.4,\n",
       "       98.5, 98.6, 98.6, 98.6, 98.6, 98.6, 98.7, 98.8, 98.9, 99. , 99. ,\n",
       "       99.1, 99.2, 99.3, 99.4, 99.5, 99.5, 99.7, 99.8])"
      ]
     },
     "execution_count": 34,
     "metadata": {},
     "output_type": "execute_result"
    }
   ],
   "source": [
    "# this is exercise 4.11 from the textbook\n",
    "results = np.genfromtxt('datasets/4-11.csv', delimiter=',')\n",
    "results"
   ]
  },
  {
   "cell_type": "code",
   "execution_count": 35,
   "metadata": {},
   "outputs": [
    {
     "data": {
      "text/plain": [
       "98.56333333333333"
      ]
     },
     "execution_count": 35,
     "metadata": {},
     "output_type": "execute_result"
    }
   ],
   "source": [
    "np.mean(results)"
   ]
  },
  {
   "cell_type": "code",
   "execution_count": 36,
   "metadata": {},
   "outputs": [
    {
     "data": {
      "text/plain": [
       "98.6"
      ]
     },
     "execution_count": 36,
     "metadata": {},
     "output_type": "execute_result"
    }
   ],
   "source": [
    "np.median(results)"
   ]
  },
  {
   "cell_type": "code",
   "execution_count": 37,
   "metadata": {},
   "outputs": [
    {
     "data": {
      "text/plain": [
       "0.7382336275792976"
      ]
     },
     "execution_count": 37,
     "metadata": {},
     "output_type": "execute_result"
    }
   ],
   "source": [
    "np.std(results) # this is slightly off from the book answer"
   ]
  },
  {
   "cell_type": "code",
   "execution_count": 38,
   "metadata": {},
   "outputs": [
    {
     "data": {
      "text/plain": [
       "[(96.999, 98.2], (96.999, 98.2], (96.999, 98.2], (96.999, 98.2], (96.999, 98.2], ..., (99.075, 99.8], (99.075, 99.8], (99.075, 99.8], (99.075, 99.8], (99.075, 99.8]]\n",
       "Length: 30\n",
       "Categories (4, interval[float64]): [(96.999, 98.2] < (98.2, 98.6] < (98.6, 99.075] < (99.075, 99.8]]"
      ]
     },
     "execution_count": 38,
     "metadata": {},
     "output_type": "execute_result"
    }
   ],
   "source": [
    "quartiles = pd.qcut(results, 4) \n",
    "quartiles"
   ]
  },
  {
   "cell_type": "code",
   "execution_count": 40,
   "metadata": {},
   "outputs": [
    {
     "data": {
      "text/plain": [
       "(96.999, 98.2]    9\n",
       "(99.075, 99.8]    8\n",
       "(98.2, 98.6]      8\n",
       "(98.6, 99.075]    5\n",
       "dtype: int64"
      ]
     },
     "execution_count": 40,
     "metadata": {},
     "output_type": "execute_result"
    }
   ],
   "source": [
    "pd.value_counts(quartiles) # also slightly off from book answer"
   ]
  },
  {
   "cell_type": "code",
   "execution_count": 49,
   "metadata": {},
   "outputs": [
    {
     "data": {
      "image/png": "[encoded data removed]",
      "text/plain": [
       "<matplotlib.figure.Figure at 0x282c986f630>"
      ]
     },
     "metadata": {},
     "output_type": "display_data"
    }
   ],
   "source": [
    "num_bins = 5\n",
    "n, bins, patches = plt.hist(results, num_bins, facecolor='red', alpha=0.5)\n",
    "plt.show()"
   ]
  },
  {
   "cell_type": "code",
   "execution_count": null,
   "metadata": {},
   "outputs": [],
   "source": []
  }
 ],
 "metadata": {
  "kernelspec": {
   "display_name": "Python 3",
   "language": "python",
   "name": "python3"
  },
  "language_info": {
   "codemirror_mode": {
    "name": "ipython",
    "version": 3
   },
   "file_extension": ".py",
   "mimetype": "text/x-python",
   "name": "python",
   "nbconvert_exporter": "python",
   "pygments_lexer": "ipython3",
   "version": "3.6.4"
  }
 },
 "nbformat": 4,
 "nbformat_minor": 2
}
