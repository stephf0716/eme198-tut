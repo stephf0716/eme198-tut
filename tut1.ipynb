{
 "cells": [
  {
   "cell_type": "code",
   "execution_count": 4,
   "metadata": {},
   "outputs": [],
   "source": [
    "import numpy as np\n",
    "import pandas as pd"
   ]
  },
  {
   "cell_type": "code",
   "execution_count": 15,
   "metadata": {},
   "outputs": [
    {
     "data": {
      "text/plain": [
       "array([-1.12189529,  1.3942816 , -0.6763194 , -0.00496654, -0.45849881,\n",
       "       -0.13718735,  0.61886261,  0.34130336,  0.11456675,  1.06392694,\n",
       "        0.15006268,  0.11622709,  0.77631519, -0.63875143,  0.79640709,\n",
       "        2.21910926, -1.09720695,  0.42358505,  1.0519032 ,  2.25909126,\n",
       "       -0.52607404, -1.26437469, -0.54986901, -0.89997828, -0.76091961,\n",
       "        0.26386372, -0.80589004,  2.09835805,  0.35494434,  0.57292059,\n",
       "        0.16006619,  1.09958968,  1.06728716,  1.26116623,  0.85604382,\n",
       "        2.19010852,  0.37973646, -0.60957617, -1.73070581,  0.00940944,\n",
       "       -0.73823986,  0.83029361, -1.15235607,  0.21473823,  0.69361781,\n",
       "        0.29924984, -0.27084824,  0.68409407, -0.37230591, -0.12743231,\n",
       "        0.44611919,  1.40745637,  2.28590307,  0.25694338,  1.51041813,\n",
       "       -2.26380722, -0.03455802, -0.47057794, -1.18891709, -0.6483412 ,\n",
       "        1.64744886,  1.4267904 , -0.82409231,  0.63371568,  0.57926059,\n",
       "       -1.62730769, -1.02509259,  0.57020175,  0.10435364, -0.25118303,\n",
       "       -0.67597053,  0.65725799,  0.85003149,  1.13663908, -1.1555321 ,\n",
       "       -0.03077974, -0.22764093, -0.892509  ,  1.5467747 , -0.77222911,\n",
       "       -0.03469257,  0.17308935, -0.57550562,  2.0390339 ,  0.26260754,\n",
       "        0.74581222, -0.13111613,  1.10617792, -0.98345091,  1.2211275 ,\n",
       "       -0.04874044,  0.30359023,  0.20083867,  1.89472375,  1.09383154,\n",
       "       -1.25268255,  0.87299391, -0.63235617, -0.2325575 , -0.86182287,\n",
       "        2.36504723, -0.67817906,  0.11875663,  1.22012865,  0.54769746,\n",
       "        0.44985195,  0.06229335, -1.41944412, -0.24038399, -0.02717114,\n",
       "        0.98026485,  1.30762907, -0.0272397 ,  1.33187702, -0.13482695,\n",
       "        1.95234791, -1.21092507, -0.695639  ,  0.39674238, -0.35744131,\n",
       "       -0.00856229,  0.11945502, -0.12809852,  0.48689214,  1.37356229,\n",
       "        0.40019953, -0.00928943,  0.63996234,  0.25939024,  0.94014208,\n",
       "       -0.43407217,  0.71947428, -2.37308869,  0.78411149,  1.37495762,\n",
       "        0.06998929, -0.02151013,  0.96647486,  0.01389163,  0.52843825])"
      ]
     },
     "execution_count": 15,
     "metadata": {},
     "output_type": "execute_result"
    }
   ],
   "source": [
    "# let's generate some random numbers in a 5x4 array\n",
    "random_arr = np.random.randn(140)\n",
    "random_arr"
   ]
  },
  {
   "cell_type": "code",
   "execution_count": 16,
   "metadata": {},
   "outputs": [
    {
     "data": {
      "text/plain": [
       "0.21566512541402347"
      ]
     },
     "execution_count": 16,
     "metadata": {},
     "output_type": "execute_result"
    }
   ],
   "source": [
    "# let's calculate the mean, median, and standard deviation\n",
    "np.mean(random_arr)"
   ]
  },
  {
   "cell_type": "code",
   "execution_count": 17,
   "metadata": {},
   "outputs": [
    {
     "data": {
      "text/plain": [
       "0.16657776956277257"
      ]
     },
     "execution_count": 17,
     "metadata": {},
     "output_type": "execute_result"
    }
   ],
   "source": [
    "np.median(random_arr)"
   ]
  },
  {
   "cell_type": "code",
   "execution_count": 18,
   "metadata": {},
   "outputs": [
    {
     "data": {
      "text/plain": [
       "0.9494232573468678"
      ]
     },
     "execution_count": 18,
     "metadata": {},
     "output_type": "execute_result"
    }
   ],
   "source": [
    "np.std(random_arr)"
   ]
  },
  {
   "cell_type": "code",
   "execution_count": 20,
   "metadata": {},
   "outputs": [
    {
     "data": {
      "text/plain": [
       "[(-2.374, -0.462], (0.835, 2.365], (-2.374, -0.462], (-0.462, 0.167], (-0.462, 0.167], ..., (-0.462, 0.167], (-0.462, 0.167], (0.835, 2.365], (-0.462, 0.167], (0.167, 0.835]]\n",
       "Length: 140\n",
       "Categories (4, interval[float64]): [(-2.374, -0.462] < (-0.462, 0.167] < (0.167, 0.835] < (0.835, 2.365]]"
      ]
     },
     "execution_count": 20,
     "metadata": {},
     "output_type": "execute_result"
    }
   ],
   "source": [
    "# let's bin the data into quartiles\n",
    "qtiles = pd.qcut(random_arr, 4) \n",
    "qtiles"
   ]
  },
  {
   "cell_type": "code",
   "execution_count": 21,
   "metadata": {},
   "outputs": [
    {
     "data": {
      "text/plain": [
       "(0.835, 2.365]      35\n",
       "(0.167, 0.835]      35\n",
       "(-0.462, 0.167]     35\n",
       "(-2.374, -0.462]    35\n",
       "dtype: int64"
      ]
     },
     "execution_count": 21,
     "metadata": {},
     "output_type": "execute_result"
    }
   ],
   "source": [
    "pd.value_counts(qtiles)"
   ]
  },
  {
   "cell_type": "code",
   "execution_count": 22,
   "metadata": {},
   "outputs": [],
   "source": [
    "import matplotlib.pyplot as plt"
   ]
  },
  {
   "cell_type": "code",
   "execution_count": 24,
   "metadata": {},
   "outputs": [
    {
     "data": {
      "image/png": "[encoded data removed]",
      "text/plain": [
       "<matplotlib.figure.Figure at 0x24c21086160>"
      ]
     },
     "metadata": {},
     "output_type": "display_data"
    }
   ],
   "source": [
    "num_bins = 10\n",
    "n, bins, patches = plt.hist(random_arr, num_bins, facecolor='blue', alpha=0.5)\n",
    "plt.show()"
   ]
  },
  {
   "cell_type": "code",
   "execution_count": null,
   "metadata": {},
   "outputs": [],
   "source": []
  }
 ],
 "metadata": {
  "kernelspec": {
   "display_name": "Python 3",
   "language": "python",
   "name": "python3"
  },
  "language_info": {
   "codemirror_mode": {
    "name": "ipython",
    "version": 3
   },
   "file_extension": ".py",
   "mimetype": "text/x-python",
   "name": "python",
   "nbconvert_exporter": "python",
   "pygments_lexer": "ipython3",
   "version": "3.6.4"
  }
 },
 "nbformat": 4,
 "nbformat_minor": 2
}
